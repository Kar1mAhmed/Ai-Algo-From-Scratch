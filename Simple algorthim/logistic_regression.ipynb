{
 "cells": [
  {
   "cell_type": "code",
   "execution_count": 1,
   "metadata": {},
   "outputs": [],
   "source": [
    "import numpy as np\n",
    "import math"
   ]
  },
  {
   "cell_type": "code",
   "execution_count": null,
   "metadata": {},
   "outputs": [],
   "source": [
    "def sigmoid(z):\n",
    "      ans=1/(1+np.exp(-z))\n",
    "      return ans"
   ]
  },
  {
   "cell_type": "code",
   "execution_count": 2,
   "metadata": {},
   "outputs": [],
   "source": [
    "def predict(X, w, b): \n",
    "\n",
    "      m, n = X.shape   \n",
    "      p = np.zeros(m)\n",
    "\n",
    "      for i in range(m):\n",
    "            tmp=np.dot(X[i],w)+b\n",
    "            p[i]=sigmoid(tmp)\n",
    "\n",
    "      for i in range(m):\n",
    "            if p[i] >= 0.5:\n",
    "                  p[i]=1\n",
    "            else:\n",
    "                  p[i]=0\n",
    "\n",
    "      return p"
   ]
  },
  {
   "cell_type": "code",
   "execution_count": 5,
   "metadata": {},
   "outputs": [],
   "source": [
    "def logistic_cost(x,w,b,y):\n",
    "      cost=0.0\n",
    "      m=x.shape[0]\n",
    "      for i in range(m):\n",
    "            z_i=np.dot(x[i],w)+b\n",
    "            sigmoid_i=sigmoid(z_i)\n",
    "            cost+= -y[i] * np.log(sigmoid_i) - (1-y[i]) * np.log(1-sigmoid_i)\n",
    "      cost/=m\n",
    "      return cost"
   ]
  },
  {
   "cell_type": "code",
   "execution_count": 6,
   "metadata": {},
   "outputs": [],
   "source": [
    "def compute_gradients_logistic(x,w,b,y):\n",
    "      m,n=x.shape\n",
    "      dj_dw = np.zeros((n,))                           #(n,)\n",
    "      dj_db = 0.\n",
    "      for i in range(m):\n",
    "            f_wb_i=sigmoid(np.dot(x[i],w)+b)\n",
    "            err_i=f_wb_i-y[i] \n",
    "            for j in range(n):\n",
    "                  dj_dw[j]+=err_i *x[i,j]\n",
    "            dj_db+=err_i\n",
    "      dj_db/=m\n",
    "      dj_dw/=m\n",
    "      return dj_db , dj_dw"
   ]
  },
  {
   "cell_type": "code",
   "execution_count": 8,
   "metadata": {},
   "outputs": [],
   "source": [
    "def compute_logistic_cost_reg(X, y, w, b, lambda_= 1):\n",
    "      m, n = X.shape\n",
    "      cost=0\n",
    "\n",
    "      for i in range(m):\n",
    "            z_i=np.dot(X[i],w)+b\n",
    "            z_i=sigmoid(z_i)\n",
    "            cost+=-y[i] * np.log(z_i)-(1-y[i])*np.log(1-z_i)\n",
    "      cost/=m\n",
    "\n",
    "      \n",
    "      return cost"
   ]
  },
  {
   "cell_type": "code",
   "execution_count": 9,
   "metadata": {},
   "outputs": [],
   "source": [
    "def compute_cost_reg(X, y, w, b, lambda_ = 1):\n",
    "\n",
    "      m, n = X.shape\n",
    "      # Calls the compute_cost function that you implemented above\n",
    "      cost_without_reg = compute_logistic_cost_reg(X, y, w, b) \n",
    "      \n",
    "      reg_cost = 0.\n",
    "      for i in range(n):\n",
    "            reg_cost+= (w[i])**2\n",
    "      \n",
    "      # Add the regularization cost to get the total cost\n",
    "      total_cost = cost_without_reg + (lambda_/(2 * m)) * reg_cost\n",
    "\n",
    "      return total_cost"
   ]
  },
  {
   "cell_type": "code",
   "execution_count": 10,
   "metadata": {},
   "outputs": [],
   "source": [
    "# gradient of regularized version\n",
    "def compute_gradient_reg(X, y, w, b, lambda_ = 1): \n",
    "      m, n = X.shape\n",
    "\n",
    "      dj_db, dj_dw = compute_gradients_logistic(X, y, w, b)\n",
    "\n",
    "      ### START CODE HERE ###     \n",
    "      for i in range(n):\n",
    "            dj_dw[i]+=w[i]*(lambda_/m)\n",
    "            \n",
    "      return dj_db, dj_dw"
   ]
  },
  {
   "cell_type": "code",
   "execution_count": 11,
   "metadata": {},
   "outputs": [],
   "source": [
    "def logistic_regression(x,w,b,y,alpha,iters):\n",
    "      \n",
    "      for i in range(iters):\n",
    "            dj_db, dj_dw = compute_gradient_reg(x, w,b,y)   \n",
    "\n",
    "            w = w - alpha * dj_dw               \n",
    "            b = b - alpha * dj_db        \n",
    "\n",
    "            cost=compute_logistic_cost_reg(x,w,b,y)\n",
    "            if i% math.ceil(iters / 10) == 0:\n",
    "                  print(f\"iter: {i} \\t cost: {cost} \")\n",
    "      print(f\"final w: {w} \\t final b: {b}\")"
   ]
  }
 ],
 "metadata": {
  "kernelspec": {
   "display_name": "Python 3",
   "language": "python",
   "name": "python3"
  },
  "language_info": {
   "codemirror_mode": {
    "name": "ipython",
    "version": 3
   },
   "file_extension": ".py",
   "mimetype": "text/x-python",
   "name": "python",
   "nbconvert_exporter": "python",
   "pygments_lexer": "ipython3",
   "version": "3.11.1"
  },
  "orig_nbformat": 4,
  "vscode": {
   "interpreter": {
    "hash": "23bcd1416b8ef8a78378e8512b07e18b10ad7227044898f8bd80f73751a7a060"
   }
  }
 },
 "nbformat": 4,
 "nbformat_minor": 2
}
