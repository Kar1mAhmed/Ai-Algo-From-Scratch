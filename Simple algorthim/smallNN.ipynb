{
 "cells": [
  {
   "cell_type": "code",
   "execution_count": 53,
   "metadata": {},
   "outputs": [],
   "source": [
    "import numpy as np"
   ]
  },
  {
   "cell_type": "code",
   "execution_count": 54,
   "metadata": {},
   "outputs": [],
   "source": [
    "#code simulate what happen inside a small Neural network without the learning process"
   ]
  },
  {
   "cell_type": "markdown",
   "metadata": {},
   "source": [
    "some normalized data to test on\n",
    "roast : -0.8345550894737244  time : -0.6528791785240173   ans : [1.]\n",
    "roast : 1.032305121421814  time : -1.3851453065872192   ans : [0.]\n",
    "roast : 0.3089390993118286  time : 0.8716251254081726   ans : [0.]\n",
    "roast : -1.083568811416626  time : -1.515484094619751   ans : [0.]\n",
    "roast : -0.7894312739372253  time : 0.6194934844970703   ans : [1.]\n",
    "roast : 0.18112416565418243  time : -1.1790282726287842   ans : [1.]\n",
    "roast : -0.25681355595588684  time : 0.6615495085716248   ans : [0.]\n",
    "roast : -0.29007601737976074  time : 0.5335373282432556   ans : [0.]\n",
    "roast : 1.5498857498168945  time : 0.7103531956672668   ans : [0.]\n",
    "roast : -0.39534124732017517  time : -1.0471969842910767   ans : [1.]\n",
    "roast : -0.5496055483818054  time : 0.10065320134162903   ans : [1.]\n",
    "roast : 1.2923742532730103  time : 1.0382425785064697   ans : [0.]\n",
    "roast : -0.6435680985450745  time : 1.5651861429214478   ans : [0.]\n",
    "roast : -0.1274976283311844  time : 0.7482603788375854   ans : [0.]\n",
    "roast : -1.3561713695526123  time : -1.3403830528259277   ans : [0.]\n",
    "roast : -1.0362517833709717  time : 1.4242196083068848   ans : [0.]\n",
    "roast : 0.57822185754776  time : 1.2993953227996826   ans : [0.]\n",
    "roast : 0.4587160646915436  time : -0.26986104249954224   ans : [0.]\n",
    "roast : 0.026780812069773674  time : 0.3926646113395691   ans : [0.]\n",
    "roast : 1.194096565246582  time : -0.15769024193286896   ans : [0.]"
   ]
  },
  {
   "cell_type": "code",
   "execution_count": 55,
   "metadata": {},
   "outputs": [],
   "source": [
    "def sigmoid(num):\n",
    "      return ( 1 / ( 1 - np.exp(-num)) )"
   ]
  },
  {
   "cell_type": "code",
   "execution_count": 62,
   "metadata": {},
   "outputs": [],
   "source": [
    "#code show what each dense do inside a network \n",
    "#  mul the weights of the neuron by the input features from the previous dense and add the bais to it\n",
    "def dense(x,W,b): \n",
    "      units = W.shape[1] #return num of col in W\n",
    "      ans = np.zeros(units)\n",
    "\n",
    "      for i in range(units):\n",
    "            w=W[ : ,i]\n",
    "            z = np.dot(x,w) +b[i]\n",
    "            ans[i] = z\n",
    "      return ans"
   ]
  },
  {
   "cell_type": "code",
   "execution_count": 57,
   "metadata": {},
   "outputs": [],
   "source": [
    "#layer passing \n",
    "def seq(x,W1,b1,W2,b2):\n",
    "      a1=dense(x,W1,b1)\n",
    "      a2=dense(a1,W2,b2)\n",
    "\n",
    "      return a2\n"
   ]
  },
  {
   "cell_type": "code",
   "execution_count": 58,
   "metadata": {},
   "outputs": [],
   "source": [
    "X_tst = np.array([\n",
    "      [ 1.29 ,  1.04],\n",
    "      [ -0.64 ,  1.56 ] ])   \n",
    "# weigths from a trained model\n",
    "W1_tmp = np.array( [[-8.93,  0.29, 12.9 ], [-0.1,  -7.32, 10.81]] )\n",
    "b1_tmp = np.array( [-9.82, -9.28,  0.96] )\n",
    "W2_tmp = np.array( [[-31.18], [-27.59], [-32.56]] )\n",
    "b2_tmp = np.array( [15.41] )"
   ]
  },
  {
   "cell_type": "code",
   "execution_count": 59,
   "metadata": {},
   "outputs": [],
   "source": [
    "def predict(X,w1,b1,w2,b2):\n",
    "      m=X.shape[0]\n",
    "      p=np.zeros(m)\n",
    "\n",
    "      for i in range(m):\n",
    "            p[i]=seq(X[i],w1,b1,w2,b2)\n",
    "      return p"
   ]
  },
  {
   "cell_type": "code",
   "execution_count": 60,
   "metadata": {},
   "outputs": [],
   "source": [
    "def TorF(p):\n",
    "      for i in range(len(p)):\n",
    "            if p[i] > 0.5:\n",
    "                  p[i] =1\n",
    "            else :\n",
    "                  p[i] = 0\n",
    "      return p"
   ]
  },
  {
   "cell_type": "code",
   "execution_count": 65,
   "metadata": {},
   "outputs": [
    {
     "data": {
      "text/plain": [
       "array([-4.86540972e-10, -6.69915106e-08,  1.00000000e+00])"
      ]
     },
     "execution_count": 65,
     "metadata": {},
     "output_type": "execute_result"
    }
   ],
   "source": [
    "sigmoid(dense(X_tst[0],W1_tmp,b1_tmp))\n",
    "\n"
   ]
  }
 ],
 "metadata": {
  "kernelspec": {
   "display_name": "Python 3.10.4 64-bit",
   "language": "python",
   "name": "python3"
  },
  "language_info": {
   "codemirror_mode": {
    "name": "ipython",
    "version": 3
   },
   "file_extension": ".py",
   "mimetype": "text/x-python",
   "name": "python",
   "nbconvert_exporter": "python",
   "pygments_lexer": "ipython3",
   "version": "3.10.7"
  },
  "orig_nbformat": 4,
  "vscode": {
   "interpreter": {
    "hash": "fcf4e9ccc72525710c9361c09f6503844aacd437ecce5c29a00e19bd3cec452e"
   }
  }
 },
 "nbformat": 4,
 "nbformat_minor": 2
}
