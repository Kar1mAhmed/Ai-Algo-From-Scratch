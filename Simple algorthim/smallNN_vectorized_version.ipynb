{
 "cells": [
  {
   "cell_type": "code",
   "execution_count": 2,
   "metadata": {},
   "outputs": [],
   "source": [
    "import numpy as np"
   ]
  },
  {
   "cell_type": "code",
   "execution_count": 3,
   "metadata": {},
   "outputs": [],
   "source": [
    "def sigmoid(num):\n",
    "      return (1 / (1 - np.exp(-num)))"
   ]
  },
  {
   "cell_type": "markdown",
   "metadata": {},
   "source": [
    "<h1>some normalized data to test on</h1><br>\n",
    "roast : -0.8345550894737244         time : -0.6528791785240173          ans : [1.]<br>\n",
    "roast : 1.032305121421814           time : -1.3851453065872192          ans : [0.]<br>\n",
    "roast : 0.3089390993118286          time : 0.8716251254081726           ans : [0.]<br>\n",
    "roast : -1.083568811416626          time : -1.515484094619751           ans : [0.]<br>\n",
    "roast : -0.7894312739372253         time : 0.6194934844970703           ans : [1.]<br>\n",
    "roast : 0.18112416565418243         time : -1.1790282726287842          ans : [1.]<br>\n",
    "roast : -0.25681355595588684        time : 0.6615495085716248           ans : [0.]<br>\n",
    "roast : -0.29007601737976074        time : 0.5335373282432556           ans : [0.]<br>\n",
    "roast : 1.5498857498168945          time : 0.7103531956672668           ans : [0.]<br>\n",
    "roast : -0.39534124732017517        time : -1.0471969842910767          ans : [1.]<br>\n",
    "roast : -0.5496055483818054         time : 0.10065320134162903          ans : [1.]<br>\n",
    "roast : 1.2923742532730103          time : 1.0382425785064697           ans : [0.]<br>\n",
    "roast : -0.6435680985450745         time : 1.5651861429214478           ans : [0.]<br>\n",
    "roast : -0.1274976283311844         time : 0.7482603788375854           ans : [0.]<br>\n",
    "roast : -1.3561713695526123         time : -1.3403830528259277          ans : [0.]<br>\n",
    "roast : -1.0362517833709717         time : 1.4242196083068848           ans : [0.]<br>\n",
    "roast : 0.57822185754776            time : 1.2993953227996826           ans : [0.]<br>\n",
    "roast : 0.4587160646915436          time : -0.26986104249954224         ans : [0.]<br>\n",
    "roast : 0.026780812069773674        time : 0.3926646113395691           ans : [0.]<br>\n",
    "roast : 1.194096565246582           time : -0.15769024193286896         ans : [0.]<br>"
   ]
  },
  {
   "cell_type": "code",
   "execution_count": 4,
   "metadata": {},
   "outputs": [],
   "source": [
    "#feuters already transposed\n",
    "X_tst = np.array([\n",
    "      [ -0.5496055483818054 , 0.10065320134162903],\n",
    "      [ 1.194096565246582 , -0.15769024193286896 ] ])   \n",
    "      # weigths from a trained model\n",
    "W1_tmp = np.array( [[-8.93,  0.29, 12.9 ], [-0.1,  -7.32, 10.81]] )\n",
    "b1_tmp = np.array( [-9.82, -9.28,  0.96] )\n",
    "W2_tmp = np.array( [[-31.18], [-27.59], [-32.56]] )\n",
    "b2_tmp = np.array( [15.41] )"
   ]
  },
  {
   "cell_type": "code",
   "execution_count": 5,
   "metadata": {},
   "outputs": [],
   "source": [
    "def denseS(X,W,b):\n",
    "      ans=np.matmul(X,W) + b\n",
    "      return sigmoid(ans)"
   ]
  },
  {
   "cell_type": "code",
   "execution_count": 6,
   "metadata": {},
   "outputs": [],
   "source": [
    "def seq(x,W1,b1,W2,b2):\n",
    "      a1=denseS(x,W1,b1)\n",
    "      a2=denseS(a1,W2,b2)\n",
    "      return a2"
   ]
  },
  {
   "cell_type": "code",
   "execution_count": 7,
   "metadata": {},
   "outputs": [],
   "source": [
    "def predect(X,W1,b1,W2,b2):\n",
    "      m=X.shape[0]\n",
    "      p=np.zeros(m)\n",
    "\n",
    "      for i in range(m):\n",
    "            p[i] = seq(X[i],W1,b1,W2,b2)\n",
    "      return p"
   ]
  },
  {
   "cell_type": "code",
   "execution_count": 8,
   "metadata": {},
   "outputs": [],
   "source": [
    "def zero_one(p):\n",
    "      m=p.shape[0]\n",
    "      ans=np.zeros(m)\n",
    "      for i in range(m):\n",
    "            ans[i] = 1 if p[i] > 0.5 else 0\n",
    "      return ans"
   ]
  },
  {
   "cell_type": "code",
   "execution_count": 9,
   "metadata": {},
   "outputs": [
    {
     "data": {
      "text/plain": [
       "array([1., 0.])"
      ]
     },
     "execution_count": 9,
     "metadata": {},
     "output_type": "execute_result"
    }
   ],
   "source": [
    "zero_one(predect(X_tst,W1_tmp,b1_tmp,W2_tmp,b2_tmp))\n"
   ]
  }
 ],
 "metadata": {
  "kernelspec": {
   "display_name": "Python 3.10.4 64-bit",
   "language": "python",
   "name": "python3"
  },
  "language_info": {
   "codemirror_mode": {
    "name": "ipython",
    "version": 3
   },
   "file_extension": ".py",
   "mimetype": "text/x-python",
   "name": "python",
   "nbconvert_exporter": "python",
   "pygments_lexer": "ipython3",
   "version": "3.10.7"
  },
  "orig_nbformat": 4,
  "vscode": {
   "interpreter": {
    "hash": "fcf4e9ccc72525710c9361c09f6503844aacd437ecce5c29a00e19bd3cec452e"
   }
  }
 },
 "nbformat": 4,
 "nbformat_minor": 2
}
