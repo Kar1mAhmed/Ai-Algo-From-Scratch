{
 "cells": [
  {
   "cell_type": "code",
   "execution_count": 4,
   "metadata": {},
   "outputs": [],
   "source": [
    "import numpy as np"
   ]
  },
  {
   "cell_type": "code",
   "execution_count": 5,
   "metadata": {},
   "outputs": [],
   "source": [
    "def get_prediction_y(X,w,b):\n",
    "      p=[]\n",
    "      m=X.shape[0]\n",
    "      for i in range(m):\n",
    "            temp=np.dot(X[i],w)\n",
    "            temp+=b\n",
    "            p.append(temp)\n",
    "      return p"
   ]
  },
  {
   "cell_type": "code",
   "execution_count": 6,
   "metadata": {},
   "outputs": [],
   "source": [
    "def compute_cost(X,y,w,b):\n",
    "      y_hat=get_prediction_y(X,w,b)\n",
    "      cost=0.0\n",
    "      for i in range(len(y)):\n",
    "            temp=y_hat[i]-y[i]\n",
    "            temp=temp**2\n",
    "            cost+=temp\n",
    "      cost/=(2*len(y))\n",
    "      return cost"
   ]
  },
  {
   "cell_type": "code",
   "execution_count": 7,
   "metadata": {},
   "outputs": [],
   "source": [
    "def max_normalization(X):\n",
    "      X_norm=np.full_like(X,1)\n",
    "      for i in range(len(X)):\n",
    "            max=X[:,i].max()\n",
    "            X_norm[:,i]=(X[:,i]/max)\n",
    "      return X_norm"
   ]
  },
  {
   "cell_type": "code",
   "execution_count": 8,
   "metadata": {},
   "outputs": [],
   "source": [
    "def compute_gradient(X,y,w,b):\n",
    "      m,n = X.shape           #(number of examples, number of features)\n",
    "      dj_dw = np.zeros((n,))\n",
    "      dj_db = 0.\n",
    "\n",
    "      for i in range(m):                             \n",
    "            err = (np.dot(X[i], w) + b) - y[i]   \n",
    "            for j in range(n):                         \n",
    "                  dj_dw[j] += err * X[i, j]    \n",
    "            dj_db = dj_db + err                        \n",
    "      dj_dw = dj_dw / m                                \n",
    "      dj_db = dj_db / m                                \n",
    "      \n",
    "      return dj_dw, dj_db\n"
   ]
  },
  {
   "cell_type": "code",
   "execution_count": 9,
   "metadata": {},
   "outputs": [],
   "source": [
    "def compute_logistic_cost_reg(X,w,b,lambda_=1):\n",
    "\n",
    "      m,n=X.shape\n",
    "      cost_without_reg=compute_cost(X,w,b)\n",
    "\n",
    "      reg_cost=0.0\n",
    "\n",
    "      for i in range(n):\n",
    "            reg_cost+=w[i]**2\n",
    "\n",
    "      total_cost = cost_without_reg + (lambda_/(2 * m)) * reg_cost\n",
    "\n",
    "      return total_cost"
   ]
  },
  {
   "cell_type": "code",
   "execution_count": 10,
   "metadata": {},
   "outputs": [],
   "source": [
    "def compute_gradient_reg(X,y,w,b,lambda_=1):\n",
    "\n",
    "      m,n=X.shape\n",
    "\n",
    "      dj_dw,dj_db=compute_gradient(X,y,w,b)\n",
    "\n",
    "\n",
    "      #gradient for reg\n",
    "      for i in range(n):\n",
    "            dj_dw[i]+=w[i]*(lambda_/m)\n",
    "\n",
    "      return dj_dw,dj_db\n"
   ]
  },
  {
   "cell_type": "code",
   "execution_count": null,
   "metadata": {},
   "outputs": [],
   "source": [
    "def gradient_descent(X,y,w,b,iter,alpha):\n",
    "      for i in range(iter+1):\n",
    "            dj_dw,dj_db=compute_gradient(X,y,w,b)\n",
    "            w-=alpha*dj_dw\n",
    "            b-=alpha*dj_db\n",
    "\n",
    "            cost=compute_cost(X,y,w,b)\n",
    "\n",
    "            if i %100==0:\n",
    "                  print(f\"iter:{i} \\t\\t cost = {cost}\\t w={w}\")\n",
    "      \n",
    "      print(f\"\\n\\nfinal w= {w} \\t\\t final b= {b}\")\n",
    "      return w,b"
   ]
  }
 ],
 "metadata": {
  "kernelspec": {
   "display_name": "Python 3.10.4 64-bit",
   "language": "python",
   "name": "python3"
  },
  "language_info": {
   "codemirror_mode": {
    "name": "ipython",
    "version": 3
   },
   "file_extension": ".py",
   "mimetype": "text/x-python",
   "name": "python",
   "nbconvert_exporter": "python",
   "pygments_lexer": "ipython3",
   "version": "3.10.7"
  },
  "orig_nbformat": 4,
  "vscode": {
   "interpreter": {
    "hash": "fcf4e9ccc72525710c9361c09f6503844aacd437ecce5c29a00e19bd3cec452e"
   }
  }
 },
 "nbformat": 4,
 "nbformat_minor": 2
}
